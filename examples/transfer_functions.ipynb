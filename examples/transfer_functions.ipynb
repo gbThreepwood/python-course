{
 "cells": [
  {
   "cell_type": "markdown",
   "id": "14442844-b81b-4896-a6be-77f72944f469",
   "metadata": {},
   "source": [
    "# Transferfunksjonar"
   ]
  },
  {
   "cell_type": "code",
   "execution_count": null,
   "id": "c5382352-18e9-44d9-91cf-8dd7fadef285",
   "metadata": {},
   "outputs": [],
   "source": []
  }
 ],
 "metadata": {
  "kernelspec": {
   "display_name": "myenv",
   "language": "python",
   "name": "myenv"
  },
  "language_info": {
   "codemirror_mode": {
    "name": "ipython",
    "version": 3
   },
   "file_extension": ".py",
   "mimetype": "text/x-python",
   "name": "python",
   "nbconvert_exporter": "python",
   "pygments_lexer": "ipython3",
   "version": "3.11.7"
  }
 },
 "nbformat": 4,
 "nbformat_minor": 5
}
