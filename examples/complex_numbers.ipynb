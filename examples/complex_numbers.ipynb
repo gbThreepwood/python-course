{
 "cells": [
  {
   "cell_type": "markdown",
   "id": "e4445f2c-5d9b-4f3e-849a-102c983e000f",
   "metadata": {},
   "source": [
    "# Komplekse tal"
   ]
  },
  {
   "cell_type": "code",
   "execution_count": 2,
   "id": "d3f7d716-fb8e-4aa5-b274-9d0630afeef7",
   "metadata": {},
   "outputs": [],
   "source": [
    "z = 6 + 8j"
   ]
  },
  {
   "cell_type": "code",
   "execution_count": 3,
   "id": "e4da726f-06ce-4af9-9530-8eb4344aaaa9",
   "metadata": {},
   "outputs": [
    {
     "data": {
      "text/plain": [
       "complex"
      ]
     },
     "execution_count": 3,
     "metadata": {},
     "output_type": "execute_result"
    }
   ],
   "source": [
    "type(z)"
   ]
  },
  {
   "cell_type": "code",
   "execution_count": 4,
   "id": "6c39e08f-5ee6-42a3-9192-a1404081de9f",
   "metadata": {},
   "outputs": [
    {
     "data": {
      "text/plain": [
       "(6+8j)"
      ]
     },
     "execution_count": 4,
     "metadata": {},
     "output_type": "execute_result"
    }
   ],
   "source": [
    "z"
   ]
  },
  {
   "cell_type": "code",
   "execution_count": 5,
   "id": "eb79b010-adfd-4b93-b952-c9a66848d82a",
   "metadata": {},
   "outputs": [
    {
     "data": {
      "text/plain": [
       "6.0"
      ]
     },
     "execution_count": 5,
     "metadata": {},
     "output_type": "execute_result"
    }
   ],
   "source": [
    "z.real"
   ]
  },
  {
   "cell_type": "code",
   "execution_count": 6,
   "id": "49254ffd-c5d8-46cd-90c6-5e2ac69f8e57",
   "metadata": {},
   "outputs": [
    {
     "data": {
      "text/plain": [
       "8.0"
      ]
     },
     "execution_count": 6,
     "metadata": {},
     "output_type": "execute_result"
    }
   ],
   "source": [
    "z.imag"
   ]
  },
  {
   "cell_type": "code",
   "execution_count": 7,
   "id": "94124eb3-045c-4184-9516-695783aae295",
   "metadata": {},
   "outputs": [],
   "source": [
    "import cmath"
   ]
  },
  {
   "cell_type": "code",
   "execution_count": 8,
   "id": "0562480c-278b-4083-b716-ba6319033270",
   "metadata": {},
   "outputs": [
    {
     "data": {
      "text/plain": [
       "(10.0, 0.9272952180016122)"
      ]
     },
     "execution_count": 8,
     "metadata": {},
     "output_type": "execute_result"
    }
   ],
   "source": [
    "cmath.polar(z)"
   ]
  },
  {
   "cell_type": "code",
   "execution_count": 38,
   "id": "2a82644f-d3a3-4384-8110-2fc856a92ece",
   "metadata": {},
   "outputs": [],
   "source": [
    "import numpy as np\n",
    "def p2r(radi, angles):\n",
    "    return radi * np.exp(1j*np.deg2rad(angles))\n",
    "\n",
    "def r2p(x):\n",
    "    return abs(x), np.rad2deg(np.angle(x))"
   ]
  },
  {
   "cell_type": "code",
   "execution_count": 39,
   "id": "c901dad8-bc30-419b-8788-910a111716c9",
   "metadata": {},
   "outputs": [],
   "source": [
    "a = p2r(34, 30)"
   ]
  },
  {
   "cell_type": "code",
   "execution_count": 40,
   "id": "e9e5b3af-0107-4036-8cb3-f010e652982b",
   "metadata": {},
   "outputs": [
    {
     "data": {
      "text/plain": [
       "(29.444863728670917+16.999999999999996j)"
      ]
     },
     "execution_count": 40,
     "metadata": {},
     "output_type": "execute_result"
    }
   ],
   "source": [
    "a"
   ]
  },
  {
   "cell_type": "code",
   "execution_count": 41,
   "id": "10c378a4-11e7-4dc1-98fe-c4f170d4adc4",
   "metadata": {},
   "outputs": [
    {
     "data": {
      "text/plain": [
       "34.0"
      ]
     },
     "execution_count": 41,
     "metadata": {},
     "output_type": "execute_result"
    }
   ],
   "source": [
    "abs(a)"
   ]
  },
  {
   "cell_type": "code",
   "execution_count": 42,
   "id": "4fa10eb9-b97e-4498-b1d3-7a5f407429c4",
   "metadata": {},
   "outputs": [
    {
     "data": {
      "text/plain": [
       "(33.12099032335839, 28.88658176691071)"
      ]
     },
     "execution_count": 42,
     "metadata": {},
     "output_type": "execute_result"
    }
   ],
   "source": [
    "r2p(29+16j)"
   ]
  },
  {
   "cell_type": "code",
   "execution_count": null,
   "id": "fb45df46-31d8-4b2d-935a-719da35cc3a1",
   "metadata": {},
   "outputs": [],
   "source": []
  }
 ],
 "metadata": {
  "kernelspec": {
   "display_name": "myenv",
   "language": "python",
   "name": "myenv"
  },
  "language_info": {
   "codemirror_mode": {
    "name": "ipython",
    "version": 3
   },
   "file_extension": ".py",
   "mimetype": "text/x-python",
   "name": "python",
   "nbconvert_exporter": "python",
   "pygments_lexer": "ipython3",
   "version": "3.11.7"
  }
 },
 "nbformat": 4,
 "nbformat_minor": 5
}
