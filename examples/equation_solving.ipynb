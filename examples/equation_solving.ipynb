{
 "cells": [
  {
   "cell_type": "markdown",
   "id": "76eac151-a505-470d-8554-f45ade26e727",
   "metadata": {},
   "source": [
    "# Likningar"
   ]
  },
  {
   "cell_type": "code",
   "execution_count": 2,
   "id": "8a2ccdbd-997d-45c5-87d5-20732aa42ca2",
   "metadata": {},
   "outputs": [],
   "source": [
    "from sympy import solve, symbols"
   ]
  },
  {
   "cell_type": "markdown",
   "id": "e12e9561-2811-4171-add6-6e1bd2c3cc6d",
   "metadata": {},
   "source": [
    "## Eksamen ELE141 2018:"
   ]
  },
  {
   "cell_type": "markdown",
   "id": "4e2dee99-da38-4727-8e26-d90112e0518d",
   "metadata": {},
   "source": [
    "![title](krets_eksamen_v2018.png)"
   ]
  },
  {
   "cell_type": "markdown",
   "id": "1ed368a4-b2d7-4f0b-82eb-a0d4b1d5b02f",
   "metadata": {},
   "source": [
    "### Matlabkode frå LF"
   ]
  },
  {
   "cell_type": "raw",
   "id": "fefd8eeb-858b-4af4-9573-fd6280322a27",
   "metadata": {},
   "source": [
    ">> syms VR1 V1 Vab\n",
    ">> R1=300; R2=200; R3=400; R4=600; I1=100E-3;\n",
    ">> syms VR1 V1 Vab\n",
    ">> EQ1 = I1 - VR1/R1 - (VR1 - V1)/R2 == 0;\n",
    ">> Likn1 = I1 - VR1/R1 - (VR1 - V1)/R2 == 0;\n",
    ">> Likn2 = V1 == 100*VR1/R1;\n",
    ">> Likn3 = Vab == V1*(R4/(R3 + R4));\n",
    ">> svar = solve([Likn1,Likn2,Likn3],[V1,Vab,VR1]);\n",
    ">> svar.Vab"
   ]
  },
  {
   "cell_type": "markdown",
   "id": "d75ff2a7-0bf3-4bde-8851-792b7717ea08",
   "metadata": {},
   "source": [
    "### Løysing i Python med sympy"
   ]
  },
  {
   "cell_type": "code",
   "execution_count": 96,
   "id": "70df1a41-8fe6-4660-a799-82fcccecf76b",
   "metadata": {},
   "outputs": [],
   "source": [
    "VR1, V1, Vab = symbols('V_R1 V_1 V_ab')\n",
    "R1=300; R2=200; R3=400; R4=600; I1=100E-3"
   ]
  },
  {
   "cell_type": "code",
   "execution_count": 99,
   "id": "42a41053-f52a-4c56-b8cd-4a0363e4f56e",
   "metadata": {},
   "outputs": [],
   "source": [
    "Likn1 = I1 - VR1/R1 - ((VR1 - V1)/R2)\n",
    "Likn2 = ((100*VR1)/R1) - V1\n",
    "Likn3 = V1*(R4/(R3 + R4)) - Vab"
   ]
  },
  {
   "cell_type": "code",
   "execution_count": 100,
   "id": "aa2b6aae-dfca-4018-bee4-8ff12a92168e",
   "metadata": {},
   "outputs": [
    {
     "data": {
      "image/png": "[encoded data removed]",
      "text/latex": [
       "$\\displaystyle \\frac{V_{1}}{200} - \\frac{V_{R1}}{120} + 0.1$"
      ],
      "text/plain": [
       " V₁   V_R1      \n",
       "─── - ──── + 0.1\n",
       "200   120       "
      ]
     },
     "execution_count": 100,
     "metadata": {},
     "output_type": "execute_result"
    }
   ],
   "source": [
    "Likn1"
   ]
  },
  {
   "cell_type": "code",
   "execution_count": 101,
   "id": "e8377b22-04b7-4333-a1e7-80a99e1c7621",
   "metadata": {},
   "outputs": [
    {
     "data": {
      "image/png": "[encoded data removed]",
      "text/latex": [
       "$\\displaystyle - V_{1} + \\frac{V_{R1}}{3}$"
      ],
      "text/plain": [
       "      V_R1\n",
       "-V₁ + ────\n",
       "       3  "
      ]
     },
     "execution_count": 101,
     "metadata": {},
     "output_type": "execute_result"
    }
   ],
   "source": [
    "Likn2"
   ]
  },
  {
   "cell_type": "code",
   "execution_count": 102,
   "id": "ee7ac5a6-2b89-4500-a8af-20c3d0de2642",
   "metadata": {},
   "outputs": [
    {
     "data": {
      "image/png": "[encoded data removed]",
      "text/latex": [
       "$\\displaystyle 0.6 V_{1} - V_{ab}$"
      ],
      "text/plain": [
       "0.6⋅V₁ - V_ab"
      ]
     },
     "execution_count": 102,
     "metadata": {},
     "output_type": "execute_result"
    }
   ],
   "source": [
    "Likn3"
   ]
  },
  {
   "cell_type": "code",
   "execution_count": 106,
   "id": "19ed3286-2a3a-49c8-8953-adac0c5be7a0",
   "metadata": {},
   "outputs": [],
   "source": [
    "svar = solve([Likn1, Likn2, Likn3], [V1, Vab, VR1], dict=True)"
   ]
  },
  {
   "cell_type": "code",
   "execution_count": 107,
   "id": "58bceb85-e6d5-48e4-b469-03310b70608a",
   "metadata": {},
   "outputs": [
    {
     "data": {
      "image/png": "[encoded data removed]",
      "text/latex": [
       "$\\displaystyle \\left[ \\left\\{ V_{1} : 5.0, \\  V_{R1} : 15.0, \\  V_{ab} : 3.0\\right\\}\\right]$"
      ],
      "text/plain": [
       "[{V₁: 5.0, V_R1: 15.0, V_ab: 3.0}]"
      ]
     },
     "execution_count": 107,
     "metadata": {},
     "output_type": "execute_result"
    }
   ],
   "source": [
    "svar"
   ]
  },
  {
   "cell_type": "code",
   "execution_count": null,
   "id": "40b2e6e2-d4c4-4a98-acaf-596e83f1e22d",
   "metadata": {},
   "outputs": [],
   "source": []
  },
  {
   "cell_type": "markdown",
   "id": "d929ce75-01f1-469c-8b8d-55d69f58c7b8",
   "metadata": {},
   "source": [
    "### Løysing i Python med numpy"
   ]
  },
  {
   "cell_type": "code",
   "execution_count": 88,
   "id": "5e26eb6a-d466-4b89-a768-60f8d63ce305",
   "metadata": {},
   "outputs": [],
   "source": [
    "import numpy as np"
   ]
  },
  {
   "cell_type": "markdown",
   "id": "471d7da5-2456-4596-a953-badc847bf064",
   "metadata": {},
   "source": [
    "Setter likningane opp på matriseform:"
   ]
  },
  {
   "cell_type": "markdown",
   "id": "eb10439b-9510-4184-8871-4318c3bca0e9",
   "metadata": {},
   "source": [
    "$$\n",
    "\\begin{bmatrix}\n",
    "\\frac{1}{200} & -\\frac{1}{120} \\\\\n",
    "-1 & \\frac{1}{3}\n",
    "\\end{bmatrix}\n",
    "\\begin{bmatrix}\n",
    "V_1 \\\\\n",
    "V_{R1}\n",
    "\\end{bmatrix}\n",
    "=\n",
    "\\begin{bmatrix}\n",
    "-0.1 \\\\\n",
    "0\n",
    "\\end{bmatrix}\n",
    "$$"
   ]
  },
  {
   "cell_type": "code",
   "execution_count": 90,
   "id": "b6e22cf7-131d-45c0-802e-db2325b4b594",
   "metadata": {},
   "outputs": [
    {
     "data": {
      "text/plain": [
       "array([[ 0.005     , -0.00833333],\n",
       "       [-1.        ,  0.33333333]])"
      ]
     },
     "execution_count": 90,
     "metadata": {},
     "output_type": "execute_result"
    }
   ],
   "source": [
    "A = np.array([[1/200, -1/120], [-1, 1/3]])\n",
    "A"
   ]
  },
  {
   "cell_type": "code",
   "execution_count": 92,
   "id": "628a878e-68f6-4ba1-a663-f45b95d0ff8e",
   "metadata": {},
   "outputs": [
    {
     "data": {
      "text/plain": [
       "array([[-0.1],\n",
       "       [ 0. ]])"
      ]
     },
     "execution_count": 92,
     "metadata": {},
     "output_type": "execute_result"
    }
   ],
   "source": [
    "B = np.array([[-0.1], [0]])\n",
    "B"
   ]
  },
  {
   "cell_type": "code",
   "execution_count": 93,
   "id": "f6b0ba76-f08a-4a7e-88ba-90cfc4b48982",
   "metadata": {},
   "outputs": [
    {
     "data": {
      "text/plain": [
       "array([[ -50.  ,   -1.25],\n",
       "       [-150.  ,   -0.75]])"
      ]
     },
     "execution_count": 93,
     "metadata": {},
     "output_type": "execute_result"
    }
   ],
   "source": [
    "A_inv = np.linalg.inv(A)\n",
    "A_inv"
   ]
  },
  {
   "cell_type": "code",
   "execution_count": 94,
   "id": "cb57643d-1233-4418-8d84-b687cd1bf9bc",
   "metadata": {},
   "outputs": [
    {
     "data": {
      "text/plain": [
       "array([[ 5.],\n",
       "       [15.]])"
      ]
     },
     "execution_count": 94,
     "metadata": {},
     "output_type": "execute_result"
    }
   ],
   "source": [
    "X = np.matmul(A_inv, B)\n",
    "X"
   ]
  },
  {
   "cell_type": "markdown",
   "id": "856bb7ba-bd46-4f6a-a412-5ff708f21bb7",
   "metadata": {},
   "source": [
    "### Løysing i Python med lcapy"
   ]
  },
  {
   "cell_type": "code",
   "execution_count": 65,
   "id": "579a946d-a7c2-44b6-bd6b-ff792a470532",
   "metadata": {},
   "outputs": [],
   "source": [
    "from lcapy import Circuit"
   ]
  },
  {
   "cell_type": "code",
   "execution_count": 166,
   "id": "3fe0bec1-61b1-4086-8ade-fd08cee20d24",
   "metadata": {},
   "outputs": [
    {
     "data": {
      "image/png": "[encoded data removed]"
     },
     "metadata": {
      "image/png": {
       "height": 543,
       "width": 1678
      }
     },
     "output_type": "display_data"
    }
   ],
   "source": [
    "c = Circuit(\"\"\"\n",
    "I1 VR1 0 DC 100e-3; down=2\n",
    "W 0 0_1; right=2\n",
    "W VR1 VR1_1; right=2\n",
    "R1 VR1_1 m 300; down\n",
    "Vsense m 2 0; down\n",
    "R2 VR1_1 Vmid 200; right=2\n",
    "R3 Vmid Vab 400; right=2\n",
    "R4 Vab 4 600; down=2\n",
    "H1 Vmid 3 Vsense 100; down=2, l=100*i\n",
    "W 2 3\n",
    "W 3 4\n",
    "\"\"\")\n",
    "c.draw()"
   ]
  },
  {
   "cell_type": "code",
   "execution_count": 167,
   "id": "6c5e06cd-a04c-460e-b6a3-94fc2261df18",
   "metadata": {},
   "outputs": [
    {
     "ename": "ValueError",
     "evalue": "The MNA A matrix is not invertible for time analysis:\n    Check voltage source is not short-circuited.\n    Check for loop of voltage sources.\n    Check current source is not open-circuited.",
     "output_type": "error",
     "traceback": [
      "\u001b[1;31m---------------------------------------------------------------------------\u001b[0m",
      "\u001b[1;31mAttributeError\u001b[0m                            Traceback (most recent call last)",
      "File \u001b[1;32m~/git/HVL/python-course/examples/myenv/lib/python3.11/site-packages/lcapy/matrix.py:344\u001b[0m, in \u001b[0;36mmatrix_solve\u001b[1;34m(M, b, method)\u001b[0m\n\u001b[0;32m    343\u001b[0m \u001b[38;5;28;01mtry\u001b[39;00m:\n\u001b[1;32m--> 344\u001b[0m     sol_num, sol_den \u001b[38;5;241m=\u001b[39m \u001b[43mM\u001b[49m\u001b[38;5;241;43m.\u001b[39;49m\u001b[43mto_DM\u001b[49m()\u001b[38;5;241m.\u001b[39msolve_den(b\u001b[38;5;241m.\u001b[39mto_DM())\n\u001b[0;32m    345\u001b[0m     x \u001b[38;5;241m=\u001b[39m (sol_num\u001b[38;5;241m.\u001b[39mto_field() \u001b[38;5;241m/\u001b[39m sol_den)\u001b[38;5;241m.\u001b[39mto_Matrix()\n",
      "\u001b[1;31mAttributeError\u001b[0m: 'MutableDenseMatrix' object has no attribute 'to_DM'",
      "\nDuring handling of the above exception, another exception occurred:\n",
      "\u001b[1;31mNonInvertibleMatrixError\u001b[0m                  Traceback (most recent call last)",
      "File \u001b[1;32m~/git/HVL/python-course/examples/myenv/lib/python3.11/site-packages/lcapy/mna.py:205\u001b[0m, in \u001b[0;36mMNA._solve\u001b[1;34m(self)\u001b[0m\n\u001b[0;32m    204\u001b[0m \u001b[38;5;28;01mtry\u001b[39;00m:\n\u001b[1;32m--> 205\u001b[0m     results \u001b[38;5;241m=\u001b[39m \u001b[43mmatrix_solve\u001b[49m\u001b[43m(\u001b[49m\u001b[38;5;28;43mself\u001b[39;49m\u001b[38;5;241;43m.\u001b[39;49m\u001b[43m_A\u001b[49m\u001b[43m,\u001b[49m\u001b[43m \u001b[49m\u001b[38;5;28;43mself\u001b[39;49m\u001b[38;5;241;43m.\u001b[39;49m\u001b[43m_Z\u001b[49m\u001b[43m,\u001b[49m\u001b[43m \u001b[49m\u001b[43mmethod\u001b[49m\u001b[38;5;241;43m=\u001b[39;49m\u001b[43msolver_method\u001b[49m\u001b[43m)\u001b[49m\n\u001b[0;32m    206\u001b[0m \u001b[38;5;28;01mexcept\u001b[39;00m \u001b[38;5;167;01mValueError\u001b[39;00m:\n",
      "File \u001b[1;32m~/git/HVL/python-course/examples/myenv/lib/python3.11/site-packages/lcapy/matrix.py:348\u001b[0m, in \u001b[0;36mmatrix_solve\u001b[1;34m(M, b, method)\u001b[0m\n\u001b[0;32m    346\u001b[0m \u001b[38;5;28;01mexcept\u001b[39;00m:\n\u001b[0;32m    347\u001b[0m     \u001b[38;5;66;03m# Fallback\u001b[39;00m\n\u001b[1;32m--> 348\u001b[0m     Minv \u001b[38;5;241m=\u001b[39m \u001b[43mmatrix_inverse\u001b[49m\u001b[43m(\u001b[49m\u001b[43mM\u001b[49m\u001b[43m,\u001b[49m\u001b[43m \u001b[49m\u001b[43mmethod\u001b[49m\u001b[43m)\u001b[49m\n\u001b[0;32m    349\u001b[0m     x \u001b[38;5;241m=\u001b[39m Minv \u001b[38;5;241m*\u001b[39m b\n",
      "File \u001b[1;32m~/git/HVL/python-course/examples/myenv/lib/python3.11/site-packages/lcapy/matrix.py:332\u001b[0m, in \u001b[0;36mmatrix_inverse\u001b[1;34m(M, method)\u001b[0m\n\u001b[0;32m    330\u001b[0m             method \u001b[38;5;241m=\u001b[39m matrix_inverse_fallback_method\n\u001b[1;32m--> 332\u001b[0m \u001b[38;5;28;01mreturn\u001b[39;00m \u001b[43mM\u001b[49m\u001b[38;5;241;43m.\u001b[39;49m\u001b[43minv\u001b[49m\u001b[43m(\u001b[49m\u001b[43mmethod\u001b[49m\u001b[38;5;241;43m=\u001b[39;49m\u001b[43mmethod\u001b[49m\u001b[43m)\u001b[49m\n",
      "File \u001b[1;32m~/git/HVL/python-course/examples/myenv/lib/python3.11/site-packages/sympy/matrices/matrices.py:2177\u001b[0m, in \u001b[0;36mMatrixBase.inv\u001b[1;34m(self, method, iszerofunc, try_block_diag)\u001b[0m\n\u001b[0;32m   2176\u001b[0m \u001b[38;5;28;01mdef\u001b[39;00m \u001b[38;5;21minv\u001b[39m(\u001b[38;5;28mself\u001b[39m, method\u001b[38;5;241m=\u001b[39m\u001b[38;5;28;01mNone\u001b[39;00m, iszerofunc\u001b[38;5;241m=\u001b[39m_iszero, try_block_diag\u001b[38;5;241m=\u001b[39m\u001b[38;5;28;01mFalse\u001b[39;00m):\n\u001b[1;32m-> 2177\u001b[0m     \u001b[38;5;28;01mreturn\u001b[39;00m \u001b[43m_inv\u001b[49m\u001b[43m(\u001b[49m\u001b[38;5;28;43mself\u001b[39;49m\u001b[43m,\u001b[49m\u001b[43m \u001b[49m\u001b[43mmethod\u001b[49m\u001b[38;5;241;43m=\u001b[39;49m\u001b[43mmethod\u001b[49m\u001b[43m,\u001b[49m\u001b[43m \u001b[49m\u001b[43miszerofunc\u001b[49m\u001b[38;5;241;43m=\u001b[39;49m\u001b[43miszerofunc\u001b[49m\u001b[43m,\u001b[49m\n\u001b[0;32m   2178\u001b[0m \u001b[43m            \u001b[49m\u001b[43mtry_block_diag\u001b[49m\u001b[38;5;241;43m=\u001b[39;49m\u001b[43mtry_block_diag\u001b[49m\u001b[43m)\u001b[49m\n",
      "File \u001b[1;32m~/git/HVL/python-course/examples/myenv/lib/python3.11/site-packages/sympy/matrices/inverse.py:463\u001b[0m, in \u001b[0;36m_inv\u001b[1;34m(M, method, iszerofunc, try_block_diag)\u001b[0m\n\u001b[0;32m    462\u001b[0m \u001b[38;5;28;01melif\u001b[39;00m method \u001b[38;5;241m==\u001b[39m \u001b[38;5;124m\"\u001b[39m\u001b[38;5;124mADJ\u001b[39m\u001b[38;5;124m\"\u001b[39m:\n\u001b[1;32m--> 463\u001b[0m     rv \u001b[38;5;241m=\u001b[39m \u001b[43mM\u001b[49m\u001b[38;5;241;43m.\u001b[39;49m\u001b[43minverse_ADJ\u001b[49m\u001b[43m(\u001b[49m\u001b[43miszerofunc\u001b[49m\u001b[38;5;241;43m=\u001b[39;49m\u001b[43miszerofunc\u001b[49m\u001b[43m)\u001b[49m\n\u001b[0;32m    464\u001b[0m \u001b[38;5;28;01melif\u001b[39;00m method \u001b[38;5;241m==\u001b[39m \u001b[38;5;124m\"\u001b[39m\u001b[38;5;124mCH\u001b[39m\u001b[38;5;124m\"\u001b[39m:\n",
      "File \u001b[1;32m~/git/HVL/python-course/examples/myenv/lib/python3.11/site-packages/sympy/matrices/matrices.py:2156\u001b[0m, in \u001b[0;36mMatrixBase.inverse_ADJ\u001b[1;34m(self, iszerofunc)\u001b[0m\n\u001b[0;32m   2155\u001b[0m \u001b[38;5;28;01mdef\u001b[39;00m \u001b[38;5;21minverse_ADJ\u001b[39m(\u001b[38;5;28mself\u001b[39m, iszerofunc\u001b[38;5;241m=\u001b[39m_iszero):\n\u001b[1;32m-> 2156\u001b[0m     \u001b[38;5;28;01mreturn\u001b[39;00m \u001b[43m_inv_ADJ\u001b[49m\u001b[43m(\u001b[49m\u001b[38;5;28;43mself\u001b[39;49m\u001b[43m,\u001b[49m\u001b[43m \u001b[49m\u001b[43miszerofunc\u001b[49m\u001b[38;5;241;43m=\u001b[39;49m\u001b[43miszerofunc\u001b[49m\u001b[43m)\u001b[49m\n",
      "File \u001b[1;32m~/git/HVL/python-course/examples/myenv/lib/python3.11/site-packages/sympy/matrices/inverse.py:219\u001b[0m, in \u001b[0;36m_inv_ADJ\u001b[1;34m(M, iszerofunc)\u001b[0m\n\u001b[0;32m    207\u001b[0m \u001b[38;5;250m\u001b[39m\u001b[38;5;124;03m\"\"\"Calculates the inverse using the adjugate matrix and a determinant.\u001b[39;00m\n\u001b[0;32m    208\u001b[0m \n\u001b[0;32m    209\u001b[0m \u001b[38;5;124;03mSee Also\u001b[39;00m\n\u001b[1;32m   (...)\u001b[0m\n\u001b[0;32m    216\u001b[0m \u001b[38;5;124;03minverse_LDL\u001b[39;00m\n\u001b[0;32m    217\u001b[0m \u001b[38;5;124;03m\"\"\"\u001b[39;00m\n\u001b[1;32m--> 219\u001b[0m d \u001b[38;5;241m=\u001b[39m \u001b[43m_verify_invertible\u001b[49m\u001b[43m(\u001b[49m\u001b[43mM\u001b[49m\u001b[43m,\u001b[49m\u001b[43m \u001b[49m\u001b[43miszerofunc\u001b[49m\u001b[38;5;241;43m=\u001b[39;49m\u001b[43miszerofunc\u001b[49m\u001b[43m)\u001b[49m\n\u001b[0;32m    221\u001b[0m \u001b[38;5;28;01mreturn\u001b[39;00m M\u001b[38;5;241m.\u001b[39madjugate() \u001b[38;5;241m/\u001b[39m d\n",
      "File \u001b[1;32m~/git/HVL/python-course/examples/myenv/lib/python3.11/site-packages/sympy/matrices/inverse.py:202\u001b[0m, in \u001b[0;36m_verify_invertible\u001b[1;34m(M, iszerofunc)\u001b[0m\n\u001b[0;32m    201\u001b[0m \u001b[38;5;28;01mif\u001b[39;00m zero:\n\u001b[1;32m--> 202\u001b[0m     \u001b[38;5;28;01mraise\u001b[39;00m NonInvertibleMatrixError(\u001b[38;5;124m\"\u001b[39m\u001b[38;5;124mMatrix det == 0; not invertible.\u001b[39m\u001b[38;5;124m\"\u001b[39m)\n\u001b[0;32m    204\u001b[0m \u001b[38;5;28;01mreturn\u001b[39;00m d\n",
      "\u001b[1;31mNonInvertibleMatrixError\u001b[0m: Matrix det == 0; not invertible.",
      "\nDuring handling of the above exception, another exception occurred:\n",
      "\u001b[1;31mValueError\u001b[0m                                Traceback (most recent call last)",
      "Cell \u001b[1;32mIn[167], line 1\u001b[0m\n\u001b[1;32m----> 1\u001b[0m \u001b[43mc\u001b[49m\u001b[38;5;241;43m.\u001b[39;49m\u001b[43mVab\u001b[49m\u001b[38;5;241;43m.\u001b[39;49m\u001b[43mV\u001b[49m\n",
      "File \u001b[1;32m~/git/HVL/python-course/examples/myenv/lib/python3.11/site-packages/lcapy/node.py:72\u001b[0m, in \u001b[0;36mNode.V\u001b[1;34m(self)\u001b[0m\n\u001b[0;32m     68\u001b[0m \u001b[38;5;129m@property\u001b[39m\n\u001b[0;32m     69\u001b[0m \u001b[38;5;28;01mdef\u001b[39;00m \u001b[38;5;21mV\u001b[39m(\u001b[38;5;28mself\u001b[39m):\n\u001b[0;32m     70\u001b[0m \u001b[38;5;250m    \u001b[39m\u001b[38;5;124;03m\"\"\"Node voltage with respect to ground.\"\"\"\u001b[39;00m\n\u001b[1;32m---> 72\u001b[0m     \u001b[38;5;28;01mreturn\u001b[39;00m \u001b[38;5;28;43mself\u001b[39;49m\u001b[38;5;241;43m.\u001b[39;49m\u001b[43mcct\u001b[49m\u001b[38;5;241;43m.\u001b[39;49m\u001b[43mget_Vd\u001b[49m\u001b[43m(\u001b[49m\u001b[38;5;28;43mself\u001b[39;49m\u001b[38;5;241;43m.\u001b[39;49m\u001b[43mname\u001b[49m\u001b[43m,\u001b[49m\u001b[43m \u001b[49m\u001b[38;5;124;43m'\u001b[39;49m\u001b[38;5;124;43m0\u001b[39;49m\u001b[38;5;124;43m'\u001b[39;49m\u001b[43m)\u001b[49m\n",
      "File \u001b[1;32m~/git/HVL/python-course/examples/myenv/lib/python3.11/site-packages/lcapy/netlist.py:319\u001b[0m, in \u001b[0;36mNetlist.get_Vd\u001b[1;34m(self, Np, Nm, **kwargs)\u001b[0m\n\u001b[0;32m    316\u001b[0m \u001b[38;5;250m\u001b[39m\u001b[38;5;124;03m\"\"\"Voltage drop between nodes (time-domain)\"\"\"\u001b[39;00m\n\u001b[0;32m    318\u001b[0m Np, Nm \u001b[38;5;241m=\u001b[39m \u001b[38;5;28mself\u001b[39m\u001b[38;5;241m.\u001b[39m_check_nodes(Np, Nm)\n\u001b[1;32m--> 319\u001b[0m \u001b[38;5;28;01mreturn\u001b[39;00m \u001b[38;5;28;43mself\u001b[39;49m\u001b[38;5;241;43m.\u001b[39;49m\u001b[43m_get_Vd\u001b[49m\u001b[43m(\u001b[49m\u001b[43mNp\u001b[49m\u001b[43m,\u001b[49m\u001b[43m \u001b[49m\u001b[43mNm\u001b[49m\u001b[43m,\u001b[49m\u001b[43m \u001b[49m\u001b[38;5;241;43m*\u001b[39;49m\u001b[38;5;241;43m*\u001b[39;49m\u001b[43mkwargs\u001b[49m\u001b[43m)\u001b[49m\n",
      "File \u001b[1;32m~/git/HVL/python-course/examples/myenv/lib/python3.11/site-packages/lcapy/netlist.py:310\u001b[0m, in \u001b[0;36mNetlist._get_Vd\u001b[1;34m(self, Np, Nm, nowarn)\u001b[0m\n\u001b[0;32m    308\u001b[0m result \u001b[38;5;241m=\u001b[39m SuperpositionVoltage()\n\u001b[0;32m    309\u001b[0m \u001b[38;5;28;01mfor\u001b[39;00m sub \u001b[38;5;129;01min\u001b[39;00m subs\u001b[38;5;241m.\u001b[39mvalues():\n\u001b[1;32m--> 310\u001b[0m     Vd \u001b[38;5;241m=\u001b[39m \u001b[43msub\u001b[49m\u001b[38;5;241;43m.\u001b[39;49m\u001b[43mget_Vd\u001b[49m\u001b[43m(\u001b[49m\u001b[43mNp\u001b[49m\u001b[43m,\u001b[49m\u001b[43m \u001b[49m\u001b[43mNm\u001b[49m\u001b[43m)\u001b[49m\n\u001b[0;32m    311\u001b[0m     result\u001b[38;5;241m.\u001b[39madd(Vd)\n\u001b[0;32m    312\u001b[0m result \u001b[38;5;241m=\u001b[39m result\u001b[38;5;241m.\u001b[39mcanonical()\n",
      "File \u001b[1;32m~/git/HVL/python-course/examples/myenv/lib/python3.11/site-packages/lcapy/subnetlist.py:60\u001b[0m, in \u001b[0;36mSubNetlist.get_Vd\u001b[1;34m(self, Np, Nm)\u001b[0m\n\u001b[0;32m     57\u001b[0m \u001b[38;5;28;01mdef\u001b[39;00m \u001b[38;5;21mget_Vd\u001b[39m(\u001b[38;5;28mself\u001b[39m, Np, Nm\u001b[38;5;241m=\u001b[39m\u001b[38;5;28;01mNone\u001b[39;00m):\n\u001b[0;32m     58\u001b[0m \u001b[38;5;250m    \u001b[39m\u001b[38;5;124;03m\"\"\"Voltage drop between nodes\"\"\"\u001b[39;00m\n\u001b[1;32m---> 60\u001b[0m     \u001b[38;5;28;01mreturn\u001b[39;00m (\u001b[38;5;28;43mself\u001b[39;49m\u001b[38;5;241;43m.\u001b[39;49m\u001b[43mmna\u001b[49m\u001b[38;5;241;43m.\u001b[39;49m\u001b[43mVdict\u001b[49m[Np] \u001b[38;5;241m-\u001b[39m \u001b[38;5;28mself\u001b[39m\u001b[38;5;241m.\u001b[39mmna\u001b[38;5;241m.\u001b[39mVdict[Nm])\u001b[38;5;241m.\u001b[39mcanonical()\n",
      "File \u001b[1;32m~/git/HVL/python-course/examples/myenv/lib/python3.11/site-packages/lcapy/mna.py:340\u001b[0m, in \u001b[0;36mMNA.Vdict\u001b[1;34m(self)\u001b[0m\n\u001b[0;32m    335\u001b[0m \u001b[38;5;129m@property\u001b[39m\n\u001b[0;32m    336\u001b[0m \u001b[38;5;28;01mdef\u001b[39;00m \u001b[38;5;21mVdict\u001b[39m(\u001b[38;5;28mself\u001b[39m):\n\u001b[0;32m    337\u001b[0m \u001b[38;5;250m    \u001b[39m\u001b[38;5;124;03m\"\"\"Return dictionary of transform domain node voltages indexed by node\u001b[39;00m\n\u001b[0;32m    338\u001b[0m \u001b[38;5;124;03m    name\"\"\"\u001b[39;00m\n\u001b[1;32m--> 340\u001b[0m     \u001b[38;5;28;43mself\u001b[39;49m\u001b[38;5;241;43m.\u001b[39;49m\u001b[43m_solve\u001b[49m\u001b[43m(\u001b[49m\u001b[43m)\u001b[49m\n\u001b[0;32m    341\u001b[0m     \u001b[38;5;28;01mreturn\u001b[39;00m \u001b[38;5;28mself\u001b[39m\u001b[38;5;241m.\u001b[39m_Vdict\n",
      "File \u001b[1;32m~/git/HVL/python-course/examples/myenv/lib/python3.11/site-packages/lcapy/mna.py:208\u001b[0m, in \u001b[0;36mMNA._solve\u001b[1;34m(self)\u001b[0m\n\u001b[0;32m    206\u001b[0m \u001b[38;5;28;01mexcept\u001b[39;00m \u001b[38;5;167;01mValueError\u001b[39;00m:\n\u001b[0;32m    207\u001b[0m     message \u001b[38;5;241m=\u001b[39m \u001b[38;5;28mself\u001b[39m\u001b[38;5;241m.\u001b[39m_failure_reasons()\n\u001b[1;32m--> 208\u001b[0m     \u001b[38;5;28;01mraise\u001b[39;00m \u001b[38;5;167;01mValueError\u001b[39;00m(message)\n\u001b[0;32m    210\u001b[0m results \u001b[38;5;241m=\u001b[39m results\u001b[38;5;241m.\u001b[39msubs(cct\u001b[38;5;241m.\u001b[39mcontext\u001b[38;5;241m.\u001b[39msymbols)\n\u001b[0;32m    212\u001b[0m \u001b[38;5;66;03m# Handle capacitors at DC by assuming an infinite resistance\u001b[39;00m\n\u001b[0;32m    213\u001b[0m \u001b[38;5;66;03m# in parallel.\u001b[39;00m\n",
      "\u001b[1;31mValueError\u001b[0m: The MNA A matrix is not invertible for time analysis:\n    Check voltage source is not short-circuited.\n    Check for loop of voltage sources.\n    Check current source is not open-circuited."
     ]
    }
   ],
   "source": [
    "c.Vab.V"
   ]
  },
  {
   "cell_type": "code",
   "execution_count": null,
   "id": "bbdea5e2-0333-4467-b0d7-21146bf3d87b",
   "metadata": {},
   "outputs": [],
   "source": []
  }
 ],
 "metadata": {
  "kernelspec": {
   "display_name": "myenv",
   "language": "python",
   "name": "myenv"
  },
  "language_info": {
   "codemirror_mode": {
    "name": "ipython",
    "version": 3
   },
   "file_extension": ".py",
   "mimetype": "text/x-python",
   "name": "python",
   "nbconvert_exporter": "python",
   "pygments_lexer": "ipython3",
   "version": "3.11.7"
  }
 },
 "nbformat": 4,
 "nbformat_minor": 5
}
