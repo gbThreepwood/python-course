{
 "cells": [
  {
   "cell_type": "markdown",
   "id": "d8ea3d59-205f-4e1f-9658-7929afc65e1b",
   "metadata": {},
   "source": [
    "# Grunnleggande Python"
   ]
  },
  {
   "cell_type": "code",
   "execution_count": null,
   "id": "d87783f2-8f8e-450c-98b4-567ede6371a2",
   "metadata": {},
   "outputs": [],
   "source": []
  }
 ],
 "metadata": {
  "kernelspec": {
   "display_name": "myenv",
   "language": "python",
   "name": "myenv"
  },
  "language_info": {
   "codemirror_mode": {
    "name": "ipython",
    "version": 3
   },
   "file_extension": ".py",
   "mimetype": "text/x-python",
   "name": "python",
   "nbconvert_exporter": "python",
   "pygments_lexer": "ipython3",
   "version": "3.11.7"
  }
 },
 "nbformat": 4,
 "nbformat_minor": 5
}
