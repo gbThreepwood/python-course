{
 "cells": [
  {
   "cell_type": "code",
   "execution_count": 1,
   "id": "35ee63f1-2bc0-4dc8-8455-e9249274ba8e",
   "metadata": {},
   "outputs": [],
   "source": [
    "import numpy as np"
   ]
  },
  {
   "cell_type": "code",
   "execution_count": 2,
   "id": "cc5bdd94-580d-4292-b358-dee932fcd91e",
   "metadata": {},
   "outputs": [],
   "source": [
    "a = np.arange(15)"
   ]
  },
  {
   "cell_type": "code",
   "execution_count": 3,
   "id": "bdd1cba2-aea3-4a88-85ff-948e9fc7ae83",
   "metadata": {},
   "outputs": [
    {
     "data": {
      "text/plain": [
       "array([ 0,  1,  2,  3,  4,  5,  6,  7,  8,  9, 10, 11, 12, 13, 14])"
      ]
     },
     "execution_count": 3,
     "metadata": {},
     "output_type": "execute_result"
    }
   ],
   "source": [
    "a"
   ]
  },
  {
   "cell_type": "code",
   "execution_count": 8,
   "id": "8fed5824-4594-48b2-9bd8-a8210c0a37ca",
   "metadata": {},
   "outputs": [
    {
     "data": {
      "text/plain": [
       "array([[ 0,  1,  2,  3,  4],\n",
       "       [ 5,  6,  7,  8,  9],\n",
       "       [10, 11, 12, 13, 14]])"
      ]
     },
     "execution_count": 8,
     "metadata": {},
     "output_type": "execute_result"
    }
   ],
   "source": [
    "a = a.reshape(3, 5)\n",
    "a"
   ]
  },
  {
   "cell_type": "code",
   "execution_count": 7,
   "id": "428b3647-aafe-4bd9-ad11-8bfa30aa33c1",
   "metadata": {},
   "outputs": [
    {
     "data": {
      "text/plain": [
       "(3, 5)"
      ]
     },
     "execution_count": 7,
     "metadata": {},
     "output_type": "execute_result"
    }
   ],
   "source": [
    "a.shape"
   ]
  },
  {
   "cell_type": "markdown",
   "id": "1b8d0d76-edff-4c62-bbfd-6f8d96d3b7e1",
   "metadata": {},
   "source": [
    "## Løysing av likningssett"
   ]
  },
  {
   "cell_type": "markdown",
   "id": "88153074-f1fc-4e8b-a659-576565cd4748",
   "metadata": {},
   "source": [
    "$$\n",
    "\\begin{bmatrix}\n",
    "3 & 1 & 2 \\\\\n",
    "0 & -3 & 1 \\\\\n",
    "1 & 1 & -2\n",
    "\\end{bmatrix}\n",
    "\\begin{bmatrix}\n",
    "x \\\\\n",
    "y \\\\\n",
    "z\n",
    "\\end{bmatrix}\n",
    "=\n",
    "\\begin{bmatrix}\n",
    "10 \\\\\n",
    "-5 \\\\\n",
    "7\n",
    "\\end{bmatrix}\n",
    "$$"
   ]
  },
  {
   "cell_type": "code",
   "execution_count": 21,
   "id": "2d5e7107-401c-4d6d-af85-756cff973526",
   "metadata": {},
   "outputs": [
    {
     "data": {
      "text/plain": [
       "array([[ 3,  1,  2],\n",
       "       [ 0, -3,  1],\n",
       "       [ 1,  1, -2]])"
      ]
     },
     "execution_count": 21,
     "metadata": {},
     "output_type": "execute_result"
    }
   ],
   "source": [
    "A = np.array([[3, 1, 2],[0, -3, 1],[1, 1, -2]])\n",
    "A"
   ]
  },
  {
   "cell_type": "code",
   "execution_count": 22,
   "id": "7aac0e2b-f439-48df-a477-808492b0be62",
   "metadata": {},
   "outputs": [
    {
     "data": {
      "text/plain": [
       "array([[10],\n",
       "       [-5],\n",
       "       [ 7]])"
      ]
     },
     "execution_count": 22,
     "metadata": {},
     "output_type": "execute_result"
    }
   ],
   "source": [
    "B = np.array([[10], [-5], [7]])\n",
    "B"
   ]
  },
  {
   "cell_type": "markdown",
   "id": "fe7a0210-25fe-46cb-bcc5-4b18d8d7b300",
   "metadata": {},
   "source": [
    "Me veit at:\n",
    "$$\n",
    "x = A^{-1} B\n",
    "$$"
   ]
  },
  {
   "cell_type": "code",
   "execution_count": 25,
   "id": "43416e43-b805-4de6-9ef8-27b96ebbf912",
   "metadata": {},
   "outputs": [],
   "source": [
    "x = np.matmul(np.linalg.inv(A), B)"
   ]
  },
  {
   "cell_type": "code",
   "execution_count": 26,
   "id": "b02b66e4-854f-49fc-b390-ee5e362f9bbc",
   "metadata": {},
   "outputs": [
    {
     "data": {
      "text/plain": [
       "array([[ 3.59090909],\n",
       "       [ 1.31818182],\n",
       "       [-1.04545455]])"
      ]
     },
     "execution_count": 26,
     "metadata": {},
     "output_type": "execute_result"
    }
   ],
   "source": [
    "x"
   ]
  },
  {
   "cell_type": "code",
   "execution_count": null,
   "id": "9c48e580-4b6e-4c9c-b8dd-c99f6e19012e",
   "metadata": {},
   "outputs": [],
   "source": []
  },
  {
   "cell_type": "code",
   "execution_count": null,
   "id": "3107d25b-b16f-4dbb-b829-f9b8c490a432",
   "metadata": {},
   "outputs": [],
   "source": []
  }
 ],
 "metadata": {
  "kernelspec": {
   "display_name": "myenv",
   "language": "python",
   "name": "myenv"
  },
  "language_info": {
   "codemirror_mode": {
    "name": "ipython",
    "version": 3
   },
   "file_extension": ".py",
   "mimetype": "text/x-python",
   "name": "python",
   "nbconvert_exporter": "python",
   "pygments_lexer": "ipython3",
   "version": "3.11.7"
  }
 },
 "nbformat": 4,
 "nbformat_minor": 5
}
